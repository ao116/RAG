{
 "cells": [
  {
   "cell_type": "code",
   "execution_count": 1,
   "id": "ba8a7e67",
   "metadata": {},
   "outputs": [],
   "source": [
    "%load_ext autoreload\n",
    "%autoreload 2\n",
    "\n",
    "import sys, os\n",
    "sys.path.append(os.path.abspath(\"../src\"))  # from notebooks/ to src/"
   ]
  },
  {
   "cell_type": "code",
   "execution_count": 4,
   "id": "353c7fa5",
   "metadata": {},
   "outputs": [],
   "source": [
    "import requests, json, numpy as np"
   ]
  },
  {
   "cell_type": "code",
   "execution_count": 5,
   "id": "b964fc9b",
   "metadata": {},
   "outputs": [],
   "source": [
    "\n",
    "BASE = \"http://localhost:11434\"\n",
    "\n",
    "def llm_generate(prompt: str, model: str = \"llama3.1:latest\") -> str:\n",
    "    url = f\"{BASE}/api/generate\"\n",
    "    payload = {\n",
    "        \"model\": model,\n",
    "        \"prompt\": prompt,\n",
    "        \"stream\": False,   # keep it simple first\n",
    "    }\n",
    "    output = requests.post(url, json=payload, stream=False)\n",
    "    output.raise_for_status()\n",
    "    return output.json()[\"response\"]"
   ]
  },
  {
   "cell_type": "code",
   "execution_count": 6,
   "id": "0f07e1da",
   "metadata": {},
   "outputs": [
    {
     "data": {
      "text/plain": [
       "\"How's it going? Is there something I can help you with or would you like to just chat?\""
      ]
     },
     "execution_count": 6,
     "metadata": {},
     "output_type": "execute_result"
    }
   ],
   "source": [
    "llm_generate('hi')"
   ]
  },
  {
   "cell_type": "code",
   "execution_count": 7,
   "id": "ed559230",
   "metadata": {},
   "outputs": [],
   "source": [
    "def embedding(text:str, model='nomic-embed-text:latest') -> np.ndarray:\n",
    "    url = f\"{BASE}/api/embed\"\n",
    "    params = {\n",
    "        'model' : model,\n",
    "        'input': text\n",
    "    }\n",
    "    get = requests.post(url, json=params)\n",
    "    get.raise_for_status()\n",
    "    return get"
   ]
  },
  {
   "cell_type": "code",
   "execution_count": 8,
   "id": "daf44043",
   "metadata": {},
   "outputs": [],
   "source": [
    "check = embedding('hello world it was my dream to be here')"
   ]
  },
  {
   "cell_type": "code",
   "execution_count": 9,
   "id": "58ecf9e9",
   "metadata": {},
   "outputs": [
    {
     "data": {
      "text/plain": [
       "768"
      ]
     },
     "execution_count": 9,
     "metadata": {},
     "output_type": "execute_result"
    }
   ],
   "source": [
    "len(check.json()['embeddings'][0])"
   ]
  },
  {
   "cell_type": "code",
   "execution_count": 10,
   "id": "6354023f",
   "metadata": {},
   "outputs": [],
   "source": [
    "check = np.array([1,2,3])\n",
    "check2 = np.array([2,0,1])"
   ]
  },
  {
   "cell_type": "code",
   "execution_count": 11,
   "id": "76af431a",
   "metadata": {},
   "outputs": [
    {
     "data": {
      "text/plain": [
       "5"
      ]
     },
     "execution_count": 11,
     "metadata": {},
     "output_type": "execute_result"
    }
   ],
   "source": [
    "check @ check2"
   ]
  },
  {
   "cell_type": "code",
   "execution_count": null,
   "id": "5264ba14",
   "metadata": {},
   "outputs": [],
   "source": [
    "check"
   ]
  },
  {
   "cell_type": "code",
   "execution_count": null,
   "id": "b6ec4df8",
   "metadata": {},
   "outputs": [],
   "source": [
    "def cosine_sim(vec1:np.array, vec2:np.array) -> float:\n",
    "    \n",
    "\n"
   ]
  }
 ],
 "metadata": {
  "kernelspec": {
   "display_name": "choonezan",
   "language": "python",
   "name": "python3"
  },
  "language_info": {
   "codemirror_mode": {
    "name": "ipython",
    "version": 3
   },
   "file_extension": ".py",
   "mimetype": "text/x-python",
   "name": "python",
   "nbconvert_exporter": "python",
   "pygments_lexer": "ipython3",
   "version": "3.12.5"
  }
 },
 "nbformat": 4,
 "nbformat_minor": 5
}
